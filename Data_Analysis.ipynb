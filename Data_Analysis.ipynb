{
 "cells": [
  {
   "cell_type": "code",
   "execution_count": 1,
   "metadata": {
    "collapsed": false
   },
   "outputs": [],
   "source": [
    "%matplotlib inline \n",
    "\n",
    "import six\n",
    "import Quandl\n",
    "import calendar\n",
    "import math\n",
    "import numpy as np\n",
    "import pandas as pd\n",
    "import seaborn as sb\n",
    "import pylab as pylab\n",
    "from datetime import datetime\n",
    "\n",
    "from matplotlib import colors\n",
    "import matplotlib.pyplot as plt\n",
    "import matplotlib.dates as mdates\n",
    "from mpl_toolkits.mplot3d import Axes3D\n",
    "\n",
    "from scipy.interpolate import interp1d\n",
    "import statsmodels.stats.stattools as stats_stattools\n",
    "import statsmodels.tsa.stattools as tsa_stattools\n",
    "import statsmodels.tsa.seasonal as tsa_seasonal\n",
    "import statsmodels.api as sm \n",
    "import xgboost as xgb\n",
    "from unbalanced_dataset import SMOTE\n",
    "\n",
    "from sklearn import svm\n",
    "from sklearn import metrics, cross_validation, linear_model, ensemble\n",
    "from sklearn import feature_selection\n",
    "from sklearn import decomposition\n",
    "from sklearn import discriminant_analysis\n",
    "from sklearn import preprocessing\n",
    "\n",
    "import sys\n",
    "from os import listdir\n",
    "from os.path import isfile, join\n",
    "from helpers import features_analysis, procces_stocks, data_manipulation, download_quandl_data, ml_dataset\n",
    "from classes import Iteration, Stacking, Boosting\n",
    "\n",
    "fig_size = [10, 6]\n",
    "plt.rcParams[\"figure.figsize\"] = fig_size\n",
    "sb.set_style('darkgrid')"
   ]
  },
  {
   "cell_type": "code",
   "execution_count": 2,
   "metadata": {
    "collapsed": false
   },
   "outputs": [],
   "source": [
    "GOLD = data_manipulation.read_csv_data('/Users/Pablo/Desktop/TFM/Data/GOLD.csv')\n",
    "SILVER = data_manipulation.read_csv_data('/Users/Pablo/Desktop/TFM/Data/SILVER.csv')\n",
    "PLAT = data_manipulation.read_csv_data('/Users/Pablo/Desktop/TFM/Data/PLAT.csv')\n",
    "OIL_BRENT = data_manipulation.read_csv_data('/Users/Pablo/Desktop/TFM/Data/OIL_BRENT.csv')\n",
    "INDEX_DJIA = data_manipulation.read_csv_data('/Users/Pablo/Desktop/TFM/Data/INDEX_DJIA.csv')\n",
    "INDEX_HSI = data_manipulation.read_csv_data('/Users/Pablo/Desktop/TFM/Data/INDEX_HSI.csv')\n",
    "INDEX_IBEX = data_manipulation.read_csv_data('/Users/Pablo/Desktop/TFM/Data/INDEX_IBEX.csv')\n",
    "INDEX_N225 = data_manipulation.read_csv_data('/Users/Pablo/Desktop/TFM/Data/INDEX_N225.csv')\n",
    "INDEX_SP500 = data_manipulation.read_csv_data('/Users/Pablo/Desktop/TFM/Data/INDEX_SP500.csv')\n",
    "\n",
    "values_names = ['GOLD', 'SILVER', 'PLAT', 'OIL_BRENT', 'DJIA', 'HSI', 'IBEX', 'N225', 'SP500']\n",
    "values_dfs = [GOLD, SILVER, PLAT, OIL_BRENT, INDEX_DJIA, INDEX_HSI, INDEX_IBEX, INDEX_N225, INDEX_SP500]\n",
    "values_cols = ['USD_AM', 'USD', 'USD_AM', 'USD', 'Open', 'Open', 'Open', 'Open', 'Open']\n",
    "dict_dfs_cols = {}\n",
    "\n",
    "for index in range(len(values_names)):\n",
    "    name = values_names[index]\n",
    "    df = values_dfs[index]    \n",
    "    cols = df.columns.values\n",
    "    new_cols = [x for x in cols if x not in ['Date', 'USD_AM', 'USD_PM', 'USD', 'Open', 'High', 'Low', 'Close', 'Volume', 'Adjusted Close']]\n",
    "    \n",
    "    dict_dfs_cols[name] = new_cols\n",
    "\n",
    "dataset = ml_dataset.generate_df_dataset(values_names, values_dfs, dict_dfs_cols)\n",
    "\n",
    "#First 30 row\n",
    "dataset = dataset[31:]\n",
    "dataset = dataset.reset_index(drop=True)\n",
    "dataset = dataset.fillna(method='ffill')"
   ]
  },
  {
   "cell_type": "code",
   "execution_count": 3,
   "metadata": {
    "collapsed": false
   },
   "outputs": [
    {
     "name": "stdout",
     "output_type": "stream",
     "text": [
      "['IBEX_RD_B1_Close']\n"
     ]
    }
   ],
   "source": [
    "training_dates = Iteration.Iteration('1993-08-19', '2012-07-06')\n",
    "testing_dates  = Iteration.Iteration('2012-07-09', '2016-04-20')\n",
    "training_dates.calculate_indices(dataset)\n",
    "testing_dates.calculate_indices(dataset)\n",
    "\n",
    "trainDates = []\n",
    "testDates = []\n",
    "trainDates.append(training_dates.lowerIndex)\n",
    "trainDates.append(training_dates.upperIndex)\n",
    "testDates.append(testing_dates.lowerIndex)\n",
    "testDates.append(testing_dates.upperIndex)\n",
    "\n",
    "dataset =  ml_dataset.remove_columns_from_dataset(dataset, 'close', False)\n",
    "trainX, trainY, testX, testY, cols = ml_dataset.dataset_to_train_using_dates(dataset, trainDates, testDates, binary=False)\n",
    "\n",
    "trainX = preprocessing.Imputer().fit_transform(trainX)\n",
    "testX = preprocessing.Imputer().fit_transform(testX)"
   ]
  },
  {
   "cell_type": "code",
   "execution_count": 4,
   "metadata": {
    "collapsed": false
   },
   "outputs": [
    {
     "name": "stdout",
     "output_type": "stream",
     "text": [
      "> AUC: 0.5146 [LR]\n",
      "> AUC: 0.7391 [RFC]\n",
      "> AUC: 0.8012 [GBC]\n",
      "modelEN1.coef [[-0.1185102   0.0347031   0.89506153]]\n",
      "> AUC: 0.5450 [LR]\n",
      "> AUC: 0.7455 [RFC]\n",
      "> AUC: 0.7968 [GBC]\n",
      "modelEN2.coef [[ 0.46881044  0.01708068  0.909877  ]]\n",
      "> AUC: 0.7455 \n"
     ]
    }
   ],
   "source": [
    "N_TREES = 500\n",
    "SEED = 42\n",
    "\n",
    "\n",
    "selected_models = [\n",
    "    \"LRC:dataset\",    \n",
    "    \"RFC:dataset\",\n",
    "    \"GBC:dataset\"\n",
    "    #\"RFC:effects_f\",  # experimental; added after the competition\n",
    "]\n",
    "\n",
    "\n",
    "# Create the models on the fly\n",
    "models = []\n",
    "for item in selected_models:\n",
    "    model_id, data_set = item.split(':')\n",
    "    model = {'LRC': linear_model.LogisticRegression,\n",
    "             'GBC': ensemble.GradientBoostingClassifier,\n",
    "             'RFC': ensemble.RandomForestClassifier,\n",
    "             'ETC': ensemble.ExtraTreesClassifier}[model_id]()\n",
    "    model.set_params(random_state=SEED)\n",
    "    models.append(model)\n",
    "\n",
    "\n",
    "################\n",
    "##  Boosting  ##\n",
    "################\n",
    "    \n",
    "boosting = Boosting.Boosting(models)\n",
    "\n",
    "###  Metrics\n",
    "mean_auc = 0.0\n",
    "iter_ = 1\n",
    "for i in range(iter_):        \n",
    "    boosting.fit_predict(trainX, trainY, testX, testY)"
   ]
  },
  {
   "cell_type": "code",
   "execution_count": 4,
   "metadata": {
    "collapsed": false
   },
   "outputs": [
    {
     "name": "stdout",
     "output_type": "stream",
     "text": [
      "compute_scores...\n",
      "n_components pca...\n",
      "n_components fa...\n",
      "best n_components by PCA CV = 125\n",
      "best n_components by FactorAnalysis CV = 115\n"
     ]
    },
    {
     "ename": "NameError",
     "evalue": "name 'rank' is not defined",
     "output_type": "error",
     "traceback": [
      "\u001b[0;31m---------------------------------------------------------------------------\u001b[0m",
      "\u001b[0;31mNameError\u001b[0m                                 Traceback (most recent call last)",
      "\u001b[0;32m<ipython-input-4-44f0cad73291>\u001b[0m in \u001b[0;36m<module>\u001b[0;34m()\u001b[0m\n\u001b[1;32m     66\u001b[0m     \u001b[0mplt\u001b[0m\u001b[0;34m.\u001b[0m\u001b[0mplot\u001b[0m\u001b[0;34m(\u001b[0m\u001b[0mn_components\u001b[0m\u001b[0;34m,\u001b[0m \u001b[0mpca_scores\u001b[0m\u001b[0;34m,\u001b[0m \u001b[0;34m'b'\u001b[0m\u001b[0;34m,\u001b[0m \u001b[0mlabel\u001b[0m\u001b[0;34m=\u001b[0m\u001b[0;34m'PCA scores'\u001b[0m\u001b[0;34m)\u001b[0m\u001b[0;34m\u001b[0m\u001b[0m\n\u001b[1;32m     67\u001b[0m     \u001b[0mplt\u001b[0m\u001b[0;34m.\u001b[0m\u001b[0mplot\u001b[0m\u001b[0;34m(\u001b[0m\u001b[0mn_components\u001b[0m\u001b[0;34m,\u001b[0m \u001b[0mfa_scores\u001b[0m\u001b[0;34m,\u001b[0m \u001b[0;34m'r'\u001b[0m\u001b[0;34m,\u001b[0m \u001b[0mlabel\u001b[0m\u001b[0;34m=\u001b[0m\u001b[0;34m'FA scores'\u001b[0m\u001b[0;34m)\u001b[0m\u001b[0;34m\u001b[0m\u001b[0m\n\u001b[0;32m---> 68\u001b[0;31m     \u001b[0mplt\u001b[0m\u001b[0;34m.\u001b[0m\u001b[0maxvline\u001b[0m\u001b[0;34m(\u001b[0m\u001b[0mrank\u001b[0m\u001b[0;34m,\u001b[0m \u001b[0mcolor\u001b[0m\u001b[0;34m=\u001b[0m\u001b[0;34m'g'\u001b[0m\u001b[0;34m,\u001b[0m \u001b[0mlabel\u001b[0m\u001b[0;34m=\u001b[0m\u001b[0;34m'TRUTH: %d'\u001b[0m \u001b[0;34m%\u001b[0m \u001b[0mrank\u001b[0m\u001b[0;34m,\u001b[0m \u001b[0mlinestyle\u001b[0m\u001b[0;34m=\u001b[0m\u001b[0;34m'-'\u001b[0m\u001b[0;34m)\u001b[0m\u001b[0;34m\u001b[0m\u001b[0m\n\u001b[0m\u001b[1;32m     69\u001b[0m     plt.axvline(n_components_pca, color='b',\n\u001b[1;32m     70\u001b[0m                 label='PCA CV: %d' % n_components_pca, linestyle='--')\n",
      "\u001b[0;31mNameError\u001b[0m: name 'rank' is not defined"
     ]
    },
    {
     "data": {
      "image/png": "[encoded data removed]",
      "text/plain": [
       "<matplotlib.figure.Figure at 0x117f2ead0>"
      ]
     },
     "metadata": {},
     "output_type": "display_data"
    }
   ],
   "source": [
    "from sklearn.covariance import ShrunkCovariance, LedoitWolf\n",
    "from sklearn.cross_validation import cross_val_score\n",
    "from sklearn.grid_search import GridSearchCV\n",
    "\n",
    "# Fit the models\n",
    "n_features = trainX.shape[1]\n",
    "n_components = np.arange(0, n_features, 5)  # options for n_components\n",
    "\n",
    "\n",
    "def compute_scores(X):\n",
    "    pca = decomposition.PCA()\n",
    "    fa = decomposition.FactorAnalysis()\n",
    "\n",
    "    pca_scores, fa_scores = [], []\n",
    "    for n in n_components:\n",
    "        pca.n_components = n\n",
    "        fa.n_components = n\n",
    "        pca_scores.append(np.mean(cross_val_score(pca, X)))\n",
    "        fa_scores.append(np.mean(cross_val_score(fa, X)))\n",
    "\n",
    "    return pca_scores, fa_scores\n",
    "\n",
    "\n",
    "def shrunk_cov_score(X):\n",
    "    shrinkages = np.logspace(-2, 0, 30)\n",
    "    cv = GridSearchCV(ShrunkCovariance(), {'shrinkage': shrinkages})\n",
    "    return np.mean(cross_val_score(cv.fit(X).best_estimator_, X))\n",
    "\n",
    "\n",
    "def lw_score(X):\n",
    "    return np.mean(cross_val_score(LedoitWolf(), X))\n",
    "\n",
    "for X, title in [(trainX, 'Data')]:\n",
    "    print \"compute_scores...\"\n",
    "    pca_scores, fa_scores = compute_scores(X)\n",
    "    print \"n_components pca...\"\n",
    "    n_components_pca = n_components[np.argmax(pca_scores)]\n",
    "    print \"n_components fa...\"    \n",
    "    n_components_fa = n_components[np.argmax(fa_scores)]\n",
    "\n",
    "#    pca = decomposition.PCA(n_components='mle')\n",
    "#    pca.fit(X)\n",
    "#    n_components_pca_mle = pca.n_components_\n",
    "\n",
    "    print(\"best n_components by PCA CV = %d\" % n_components_pca)\n",
    "    print(\"best n_components by FactorAnalysis CV = %d\" % n_components_fa)\n",
    "#    print(\"best n_components by PCA MLE = %d\" % n_components_pca_mle)\n",
    "#\n",
    "    plt.figure()\n",
    "    plt.plot(n_components, pca_scores, 'b', label='PCA scores')\n",
    "    plt.plot(n_components, fa_scores, 'r', label='FA scores')\n",
    "    plt.axvline(rank, color='g', label='TRUTH: %d' % rank, linestyle='-')\n",
    "    plt.axvline(n_components_pca, color='b',\n",
    "                label='PCA CV: %d' % n_components_pca, linestyle='--')\n",
    "    plt.axvline(n_components_fa, color='r',\n",
    "                label='FactorAnalysis CV: %d' % n_components_fa, linestyle='--')\n",
    "#    plt.axvline(n_components_pca_mle, color='k',\n",
    "#                label='PCA MLE: %d' % n_components_pca_mle, linestyle='--')\n",
    "#\n",
    "    # compare with other covariance estimators\n",
    "    plt.axhline(shrunk_cov_score(X), color='violet',\n",
    "                label='Shrunk Covariance MLE', linestyle='-.')\n",
    "#    plt.axhline(lw_score(X), color='orange',\n",
    "#                label='LedoitWolf MLE' % n_components_pca_mle, linestyle='-.')\n",
    "#\n",
    "    plt.xlabel('nb of components')\n",
    "    plt.ylabel('CV scores')\n",
    "    plt.legend(loc='lower right')\n",
    "    plt.title(title)\n",
    "\n",
    "plt.show()"
   ]
  },
  {
   "cell_type": "code",
   "execution_count": 37,
   "metadata": {
    "collapsed": false
   },
   "outputs": [],
   "source": [
    "#data_manipulation.write_csv_data(GOLD, '/Users/Pablo/Desktop/TFM/Data/GOLD.csv')\n",
    "#data_manipulation.write_csv_data(SILVER, '/Users/Pablo/Desktop/TFM/Data/SILVER.csv')\n",
    "#data_manipulation.write_csv_data(PLAT, '/Users/Pablo/Desktop/TFM/Data/PLAT.csv')\n",
    "#data_manipulation.write_csv_data(OIL_BRENT, '/Users/Pablo/Desktop/TFM/Data/OIL_BRENT.csv')\n",
    "#data_manipulation.write_csv_data(INDEX_DJIA, '/Users/Pablo/Desktop/TFM/Data/INDEX_DJIA.csv')\n",
    "#data_manipulation.write_csv_data(INDEX_HSI, '/Users/Pablo/Desktop/TFM/Data/INDEX_HSI.csv')\n",
    "#data_manipulation.write_csv_data(INDEX_IBEX, '/Users/Pablo/Desktop/TFM/Data/INDEX_IBEX.csv')\n",
    "#data_manipulation.write_csv_data(INDEX_N225, '/Users/Pablo/Desktop/TFM/Data/INDEX_N225.csv')\n",
    "#data_manipulation.write_csv_data(INDEX_SP500, '/Users/Pablo/Desktop/TFM/Data/INDEX_SP500.csv')"
   ]
  }
 ],
 "metadata": {
  "kernelspec": {
   "display_name": "Python 2",
   "language": "python",
   "name": "python2"
  },
  "language_info": {
   "codemirror_mode": {
    "name": "ipython",
    "version": 2
   },
   "file_extension": ".py",
   "mimetype": "text/x-python",
   "name": "python",
   "nbconvert_exporter": "python",
   "pygments_lexer": "ipython2",
   "version": "2.7.9"
  }
 },
 "nbformat": 4,
 "nbformat_minor": 0
}

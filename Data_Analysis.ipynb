{
 "cells": [
  {
   "cell_type": "code",
   "execution_count": 21,
   "metadata": {
    "collapsed": false
   },
   "outputs": [],
   "source": [
    "%matplotlib inline \n",
    "\n",
    "import six\n",
    "import Quandl\n",
    "import calendar\n",
    "import numpy as np\n",
    "import pandas as pd\n",
    "import pylab as pylab\n",
    "from datetime import datetime\n",
    "from matplotlib import colors\n",
    "import matplotlib.pyplot as plt\n",
    "import matplotlib.dates as mdates\n",
    "from scipy.interpolate import interp1d\n",
    "import statsmodels.tsa.stattools as stats\n",
    "from helpers import correlation, procces_stocks, data_manipulation, download_quandl_data\n",
    "\n",
    "from sklearn import svm\n",
    "from sklearn.ensemble import RandomForestClassifier\n",
    "from sklearn.metrics import roc_auc_score, classification_report\n",
    "\n",
    "import sys\n",
    "from os import listdir\n",
    "from os.path import isfile, join\n",
    "\n",
    "fig_size = [10, 6]\n",
    "plt.rcParams[\"figure.figsize\"] = fig_size"
   ]
  },
  {
   "cell_type": "code",
   "execution_count": 2,
   "metadata": {
    "collapsed": false
   },
   "outputs": [],
   "source": [
    "GOLD = data_manipulation.read_csv_data('/Users/Pablo/Desktop/TFM/Data/GOLD.csv')\n",
    "SILVER = data_manipulation.read_csv_data('/Users/Pablo/Desktop/TFM/Data/SILVER.csv')\n",
    "PLAT = data_manipulation.read_csv_data('/Users/Pablo/Desktop/TFM/Data/PLAT.csv')\n",
    "INDEX_DJIA = data_manipulation.read_csv_data('/Users/Pablo/Desktop/TFM/Data/INDEX_DJIA.csv')\n",
    "INDEX_HSI = data_manipulation.read_csv_data('/Users/Pablo/Desktop/TFM/Data/INDEX_HSI.csv')\n",
    "INDEX_IBEX = data_manipulation.read_csv_data('/Users/Pablo/Desktop/TFM/Data/INDEX_IBEX.csv')\n",
    "INDEX_N225 = data_manipulation.read_csv_data('/Users/Pablo/Desktop/TFM/Data/INDEX_N225.csv')\n",
    "INDEX_SP500 = data_manipulation.read_csv_data('/Users/Pablo/Desktop/TFM/Data/INDEX_SP500.csv')\n",
    "values_names = ['GOLD', 'SILVER', 'PLAT', 'INDEX_DJIA', 'INDEX_HSI', 'INDEX_IBEX', 'INDEX_N225', 'INDEX_SP500']\n",
    "values_dfs = [GOLD, SILVER, PLAT, INDEX_DJIA, INDEX_HSI, INDEX_IBEX, INDEX_N225, INDEX_SP500]\n",
    "values_cols = ['USD (AM)', 'USD', 'USD AM', 'Close', 'Close', 'Close', 'Close', 'Close']\n",
    "values = [GOLD['USD (AM)'], SILVER['USD'], PLAT['USD AM'], INDEX_DJIA['Close'], INDEX_HSI['Close'], INDEX_IBEX['Close'], INDEX_N225['Close'], INDEX_SP500['Close']]"
   ]
  },
  {
   "cell_type": "code",
   "execution_count": 3,
   "metadata": {
    "collapsed": false
   },
   "outputs": [],
   "source": [
    "def generate_df_dataset(names_list, df_list, cols_list):\n",
    "    \"\"\"\n",
    "    \n",
    "    \"\"\"\n",
    "    if len(names_list) != len(df_list) or len(names_list) != len(cols_list):\n",
    "        print('The three list must have the same length')\n",
    "        exit(0)        \n",
    "    \n",
    "    rows =  df_list[0].shape[0]\n",
    "    cols =  len(df_list)\n",
    "    dates = df_list[0]['Date'].tolist()\n",
    "\n",
    "    dict_values = {'Date':dates}\n",
    "    for index in range(len(names_list)):\n",
    "        name = names_list[index]\n",
    "        df = df_list[index]\n",
    "        col = cols_list[index]     \n",
    "\n",
    "        dict_values[name] = df[col]\n",
    "\n",
    "    temp_names_list = list(names_list)\n",
    "    temp_names_list.insert(0, 'Date')\n",
    "    df_dataset = pd.DataFrame(dict_values)\n",
    "    df_dataset = df_dataset[temp_names_list]\n",
    "\n",
    "    return df_dataset\n",
    "\n",
    "def generate_train_test_array(df_dataset, colsX, colY):\n",
    "    \"\"\"\n",
    "    \"\"\"\n",
    "    \n",
    "    arrayX = np.nan_to_num(df_dataset[colsX].values)\n",
    "    arrayY = np.nan_to_num(df_dataset[colY].values)\n",
    "    \n",
    "    return arrayX, arrayY"
   ]
  },
  {
   "cell_type": "code",
   "execution_count": 4,
   "metadata": {
    "collapsed": false,
    "scrolled": false
   },
   "outputs": [],
   "source": [
    "GOLD = procces_stocks.difference_between_consecutive_days(GOLD, 'USD (PM)')\n",
    "SILVER = procces_stocks.difference_between_consecutive_days(SILVER, 'USD')\n",
    "PLAT = procces_stocks.difference_between_consecutive_days(PLAT, 'USD PM')\n",
    "INDEX_DJIA = procces_stocks.difference_between_consecutive_days(INDEX_DJIA, 'Close')\n",
    "INDEX_HSI = procces_stocks.difference_between_consecutive_days(INDEX_HSI, 'Close')\n",
    "INDEX_IBEX = procces_stocks.difference_between_consecutive_days(INDEX_IBEX, 'Close')\n",
    "INDEX_N225 = procces_stocks.difference_between_consecutive_days(INDEX_N225, 'Close')\n",
    "INDEX_SP500 = procces_stocks.difference_between_consecutive_days(INDEX_SP500, 'Close')"
   ]
  },
  {
   "cell_type": "code",
   "execution_count": 28,
   "metadata": {
    "collapsed": false
   },
   "outputs": [],
   "source": [
    "\n",
    "values_cols_b = ['DIFF_B', 'DIFF_B', 'DIFF_B', 'DIFF_B', 'DIFF_B', 'DIFF_B', 'DIFF_B', 'DIFF_B']\n",
    "values_cols = ['DIFF', 'DIFF', 'DIFF', 'DIFF', 'DIFF', 'DIFF', 'DIFF', 'DIFF']\n",
    "\n",
    "dataset = generate_df_dataset(values_names, values_dfs, values_cols)\n",
    "dataset_b = generate_df_dataset(values_names, values_dfs, values_cols_b)\n",
    "\n",
    "train_df = dataset.head(5000)\n",
    "test_df = dataset.iloc[5000:]"
   ]
  },
  {
   "cell_type": "code",
   "execution_count": 6,
   "metadata": {
    "collapsed": false
   },
   "outputs": [],
   "source": [
    "colsX = ['Date', 'GOLD', 'SILVER', 'PLAT', 'INDEX_DJIA', 'INDEX_HSI', 'INDEX_N225', 'INDEX_SP500', 'INDEX_IBEX']\n",
    "colsY = ['Date', 'INDEX_IBEX']\n",
    "\n",
    "trainX = np.nan_to_num(train_df.drop(colsY, axis = 1).astype('float32').values).astype('float32')\n",
    "trainY = np.nan_to_num(train_df.INDEX_IBEX.astype('float32').values).astype('float32')#np.asarray(train_df['INDEX_IBEX'], dtype=\"float32\")\n",
    "testX = np.nan_to_num(test_df.drop(colsY, axis = 1).astype('float32').values).astype('float32')\n",
    "testY = np.nan_to_num(test_df.INDEX_IBEX.astype('float32').values).astype('float32')#np.asarray(train_df['INDEX_IBEX'], dtype=\"float32\")"
   ]
  },
  {
   "cell_type": "code",
   "execution_count": 29,
   "metadata": {
    "collapsed": false
   },
   "outputs": [],
   "source": [
    "colsX = ['Date', 'GOLD', 'SILVER', 'PLAT', 'INDEX_DJIA', 'INDEX_HSI', 'INDEX_N225', 'INDEX_SP500', 'INDEX_IBEX']\n",
    "colsY = ['Date', 'INDEX_IBEX']\n",
    "colsToRemove = ['Date', 'INDEX_IBEX']\n",
    "trainX = np.nan_to_num(train_df.drop(colsToRemove, axis = 1).values)\n",
    "trainY = np.nan_to_num(train_df['INDEX_IBEX'].values)"
   ]
  },
  {
   "cell_type": "code",
   "execution_count": 18,
   "metadata": {
    "collapsed": false
   },
   "outputs": [
    {
     "name": "stdout",
     "output_type": "stream",
     "text": [
      "(5000, 7)\n",
      "(5000,)\n",
      "(740, 7)\n",
      "(740,)\n"
     ]
    }
   ],
   "source": [
    "print trainX.shape\n",
    "print trainY.shape\n",
    "print testX.shape\n",
    "print testY.shape"
   ]
  },
  {
   "cell_type": "code",
   "execution_count": 17,
   "metadata": {
    "collapsed": false
   },
   "outputs": [
    {
     "name": "stdout",
     "output_type": "stream",
     "text": [
      "(5180, 1)\n"
     ]
    }
   ],
   "source": [
    "print testX.reshape(-1, 1).shape"
   ]
  },
  {
   "cell_type": "code",
   "execution_count": 110,
   "metadata": {
    "collapsed": false
   },
   "outputs": [],
   "source": [
    "#np.any(np.isnan(trainX))\n",
    "array_bool = np.isfinite(trainX)\n",
    "\n",
    "for i in range(array_bool.shape[0]):\n",
    "    for j in range(array_bool.shape[1]):\n",
    "        if array_bool[i,j] == False:\n",
    "            print(\"%s, %s\" % (i,j))"
   ]
  },
  {
   "cell_type": "code",
   "execution_count": 30,
   "metadata": {
    "collapsed": false
   },
   "outputs": [
    {
     "ename": "ValueError",
     "evalue": "Unknown label type: array([  0.      ,  14.100098,  -2.      , ..., -24.299805, -28.200195,\n       -86.700195])",
     "output_type": "error",
     "traceback": [
      "\u001b[0;31m---------------------------------------------------------------------------\u001b[0m",
      "\u001b[0;31mValueError\u001b[0m                                Traceback (most recent call last)",
      "\u001b[0;32m<ipython-input-30-74449b660f1f>\u001b[0m in \u001b[0;36m<module>\u001b[0;34m()\u001b[0m\n\u001b[1;32m      1\u001b[0m \u001b[0mscv\u001b[0m \u001b[0;34m=\u001b[0m \u001b[0msvm\u001b[0m\u001b[0;34m.\u001b[0m\u001b[0mSVC\u001b[0m\u001b[0;34m(\u001b[0m\u001b[0mkernel\u001b[0m\u001b[0;34m=\u001b[0m\u001b[0;34m'rbf'\u001b[0m\u001b[0;34m)\u001b[0m\u001b[0;34m\u001b[0m\u001b[0m\n\u001b[0;32m----> 2\u001b[0;31m \u001b[0mscv\u001b[0m\u001b[0;34m.\u001b[0m\u001b[0mfit\u001b[0m\u001b[0;34m(\u001b[0m\u001b[0mtrainX\u001b[0m\u001b[0;34m,\u001b[0m \u001b[0mtrainY\u001b[0m\u001b[0;34m)\u001b[0m\u001b[0;34m\u001b[0m\u001b[0m\n\u001b[0m\u001b[1;32m      3\u001b[0m \u001b[0;31m#scv.predict(testX)\u001b[0m\u001b[0;34m\u001b[0m\u001b[0;34m\u001b[0m\u001b[0m\n",
      "\u001b[0;32m/usr/local/lib/python2.7/site-packages/sklearn/svm/base.pyc\u001b[0m in \u001b[0;36mfit\u001b[0;34m(self, X, y, sample_weight)\u001b[0m\n\u001b[1;32m    149\u001b[0m \u001b[0;34m\u001b[0m\u001b[0m\n\u001b[1;32m    150\u001b[0m         \u001b[0mX\u001b[0m \u001b[0;34m=\u001b[0m \u001b[0mcheck_array\u001b[0m\u001b[0;34m(\u001b[0m\u001b[0mX\u001b[0m\u001b[0;34m,\u001b[0m \u001b[0maccept_sparse\u001b[0m\u001b[0;34m=\u001b[0m\u001b[0;34m'csr'\u001b[0m\u001b[0;34m,\u001b[0m \u001b[0mdtype\u001b[0m\u001b[0;34m=\u001b[0m\u001b[0mnp\u001b[0m\u001b[0;34m.\u001b[0m\u001b[0mfloat64\u001b[0m\u001b[0;34m,\u001b[0m \u001b[0morder\u001b[0m\u001b[0;34m=\u001b[0m\u001b[0;34m'C'\u001b[0m\u001b[0;34m)\u001b[0m\u001b[0;34m\u001b[0m\u001b[0m\n\u001b[0;32m--> 151\u001b[0;31m         \u001b[0my\u001b[0m \u001b[0;34m=\u001b[0m \u001b[0mself\u001b[0m\u001b[0;34m.\u001b[0m\u001b[0m_validate_targets\u001b[0m\u001b[0;34m(\u001b[0m\u001b[0my\u001b[0m\u001b[0;34m)\u001b[0m\u001b[0;34m\u001b[0m\u001b[0m\n\u001b[0m\u001b[1;32m    152\u001b[0m \u001b[0;34m\u001b[0m\u001b[0m\n\u001b[1;32m    153\u001b[0m         sample_weight = np.asarray([]\n",
      "\u001b[0;32m/usr/local/lib/python2.7/site-packages/sklearn/svm/base.pyc\u001b[0m in \u001b[0;36m_validate_targets\u001b[0;34m(self, y)\u001b[0m\n\u001b[1;32m    513\u001b[0m     \u001b[0;32mdef\u001b[0m \u001b[0m_validate_targets\u001b[0m\u001b[0;34m(\u001b[0m\u001b[0mself\u001b[0m\u001b[0;34m,\u001b[0m \u001b[0my\u001b[0m\u001b[0;34m)\u001b[0m\u001b[0;34m:\u001b[0m\u001b[0;34m\u001b[0m\u001b[0m\n\u001b[1;32m    514\u001b[0m         \u001b[0my_\u001b[0m \u001b[0;34m=\u001b[0m \u001b[0mcolumn_or_1d\u001b[0m\u001b[0;34m(\u001b[0m\u001b[0my\u001b[0m\u001b[0;34m,\u001b[0m \u001b[0mwarn\u001b[0m\u001b[0;34m=\u001b[0m\u001b[0mTrue\u001b[0m\u001b[0;34m)\u001b[0m\u001b[0;34m\u001b[0m\u001b[0m\n\u001b[0;32m--> 515\u001b[0;31m         \u001b[0mcheck_classification_targets\u001b[0m\u001b[0;34m(\u001b[0m\u001b[0my\u001b[0m\u001b[0;34m)\u001b[0m\u001b[0;34m\u001b[0m\u001b[0m\n\u001b[0m\u001b[1;32m    516\u001b[0m         \u001b[0mcls\u001b[0m\u001b[0;34m,\u001b[0m \u001b[0my\u001b[0m \u001b[0;34m=\u001b[0m \u001b[0mnp\u001b[0m\u001b[0;34m.\u001b[0m\u001b[0munique\u001b[0m\u001b[0;34m(\u001b[0m\u001b[0my_\u001b[0m\u001b[0;34m,\u001b[0m \u001b[0mreturn_inverse\u001b[0m\u001b[0;34m=\u001b[0m\u001b[0mTrue\u001b[0m\u001b[0;34m)\u001b[0m\u001b[0;34m\u001b[0m\u001b[0m\n\u001b[1;32m    517\u001b[0m         \u001b[0mself\u001b[0m\u001b[0;34m.\u001b[0m\u001b[0mclass_weight_\u001b[0m \u001b[0;34m=\u001b[0m \u001b[0mcompute_class_weight\u001b[0m\u001b[0;34m(\u001b[0m\u001b[0mself\u001b[0m\u001b[0;34m.\u001b[0m\u001b[0mclass_weight\u001b[0m\u001b[0;34m,\u001b[0m \u001b[0mcls\u001b[0m\u001b[0;34m,\u001b[0m \u001b[0my_\u001b[0m\u001b[0;34m)\u001b[0m\u001b[0;34m\u001b[0m\u001b[0m\n",
      "\u001b[0;32m/usr/local/lib/python2.7/site-packages/sklearn/utils/multiclass.pyc\u001b[0m in \u001b[0;36mcheck_classification_targets\u001b[0;34m(y)\u001b[0m\n\u001b[1;32m    171\u001b[0m     if y_type not in ['binary', 'multiclass', 'multiclass-multioutput', \n\u001b[1;32m    172\u001b[0m             'multilabel-indicator', 'multilabel-sequences']:\n\u001b[0;32m--> 173\u001b[0;31m         \u001b[0;32mraise\u001b[0m \u001b[0mValueError\u001b[0m\u001b[0;34m(\u001b[0m\u001b[0;34m\"Unknown label type: %r\"\u001b[0m \u001b[0;34m%\u001b[0m \u001b[0my\u001b[0m\u001b[0;34m)\u001b[0m\u001b[0;34m\u001b[0m\u001b[0m\n\u001b[0m\u001b[1;32m    174\u001b[0m \u001b[0;34m\u001b[0m\u001b[0m\n\u001b[1;32m    175\u001b[0m \u001b[0;34m\u001b[0m\u001b[0m\n",
      "\u001b[0;31mValueError\u001b[0m: Unknown label type: array([  0.      ,  14.100098,  -2.      , ..., -24.299805, -28.200195,\n       -86.700195])"
     ]
    }
   ],
   "source": [
    "scv = svm.SVC(kernel='rbf')\n",
    "scv.fit(trainX, trainY)\n",
    "#scv.predict(testX)"
   ]
  },
  {
   "cell_type": "raw",
   "metadata": {},
   "source": [
    "print testX.shape"
   ]
  },
  {
   "cell_type": "code",
   "execution_count": 27,
   "metadata": {
    "collapsed": false
   },
   "outputs": [
    {
     "name": "stdout",
     "output_type": "stream",
     "text": [
      "0.686486486486\n",
      "             precision    recall  f1-score   support\n",
      "\n",
      "        0.0       0.65      0.66      0.65       331\n",
      "        1.0       0.72      0.71      0.71       409\n",
      "\n",
      "avg / total       0.69      0.69      0.69       740\n",
      "\n",
      "0.683828363336\n"
     ]
    }
   ],
   "source": [
    "print scv.score(testX, testY)\n",
    "print classification_report(testY, scv.predict(testX))\n",
    "print roc_auc_score(testY, scv.predict(testX))"
   ]
  },
  {
   "cell_type": "code",
   "execution_count": 75,
   "metadata": {
    "collapsed": false,
    "scrolled": false
   },
   "outputs": [],
   "source": [
    "## PRICE FLOW BETWEEN TWO CONSECUTIVES DAYS ##\n",
    "\n",
    "difference_between_consecutive_days(GOLD, 'USD (AM)')\n",
    "difference_between_consecutive_days(PLAT, 'USD AM')\n",
    "zeros, ones, date_zeros, date_ones = consecutive_days_tendency(GOLD, 'Diff2')\n",
    "\n"
   ]
  },
  {
   "cell_type": "code",
   "execution_count": 84,
   "metadata": {
    "collapsed": false
   },
   "outputs": [
    {
     "data": {
      "image/png": "[encoded data removed]",
      "text/plain": [
       "<matplotlib.figure.Figure at 0x11480b110>"
      ]
     },
     "metadata": {},
     "output_type": "display_data"
    }
   ],
   "source": [
    "\n",
    "\n",
    "\n",
    "\n",
    "pylab.figure(1)\n",
    "\n",
    "ax = plt.subplot(111)\n",
    "x = [datetime.strptime(d,'%Y-%m-%d').date() for d in dataset['Date'].tolist()]\n",
    "ax.plot(x, dataset['INDEX_IBEX'], 'g', label='IBEX')\n",
    "box = ax.get_position()\n",
    "ax.set_position([box.x0, box.y0, box.width * 0.8, box.height])\n",
    "ax.legend(loc='center left', bbox_to_anchor=(1, 0.5))\n",
    "plt.show()\n"
   ]
  },
  {
   "cell_type": "code",
   "execution_count": null,
   "metadata": {
    "collapsed": true
   },
   "outputs": [],
   "source": [
    "min_date = '1993-04-12'\n",
    "INDEX_DJIA_new = procces_stocks.select_rows_by_actual_date(INDEX_DJIA, min_date)\n",
    "INDEX_HSI_new = procces_stocks.select_rows_by_actual_date(INDEX_HSI, min_date)\n",
    "INDEX_IBEX_new = procces_stocks.select_rows_by_actual_date(INDEX_IBEX, min_date)\n",
    "INDEX_N225_new = procces_stocks.select_rows_by_actual_date(INDEX_N225, min_date)\n",
    "INDEX_SP500_new = procces_stocks.select_rows_by_actual_date(INDEX_SP500, min_date)\n",
    "GOLD_new = procces_stocks.select_rows_by_actual_date(GOLD, min_date)\n",
    "SILVER_new = procces_stocks.select_rows_by_actual_date(SILVER, min_date)\n",
    "PLAT_new = procces_stocks.select_rows_by_actual_date(PLAT, min_date)"
   ]
  },
  {
   "cell_type": "code",
   "execution_count": 28,
   "metadata": {
    "collapsed": false
   },
   "outputs": [],
   "source": [
    "#data_manipulation.write_csv_data(GOLD_new, '/Users/Pablo/Desktop/TFM/Data/GOLD.csv')\n",
    "#data_manipulation.write_csv_data(SILVER_new, '/Users/Pablo/Desktop/TFM/Data/SILVER.csv')\n",
    "#data_manipulation.write_csv_data(PLAT_new, '/Users/Pablo/Desktop/TFM/Data/PLAT.csv')\n",
    "#data_manipulation.write_csv_data(INDEX_DJIA_new, '/Users/Pablo/Desktop/TFM/Data/INDEX_DJIA.csv')\n",
    "#data_manipulation.write_csv_data(INDEX_HSI_new, '/Users/Pablo/Desktop/TFM/Data/INDEX_HSI.csv')\n",
    "#data_manipulation.write_csv_data(INDEX_IBEX_new, '/Users/Pablo/Desktop/TFM/Data/INDEX_IBEX.csv')\n",
    "#data_manipulation.write_csv_data(INDEX_N225_new, '/Users/Pablo/Desktop/TFM/Data/INDEX_N225.csv')\n",
    "#data_manipulation.write_csv_data(INDEX_SP500_new, '/Users/Pablo/Desktop/TFM/Data/INDEX_SP500.csv')"
   ]
  }
 ],
 "metadata": {
  "kernelspec": {
   "display_name": "Python 2",
   "language": "python",
   "name": "python2"
  },
  "language_info": {
   "codemirror_mode": {
    "name": "ipython",
    "version": 2
   },
   "file_extension": ".py",
   "mimetype": "text/x-python",
   "name": "python",
   "nbconvert_exporter": "python",
   "pygments_lexer": "ipython2",
   "version": "2.7.9"
  }
 },
 "nbformat": 4,
 "nbformat_minor": 0
}

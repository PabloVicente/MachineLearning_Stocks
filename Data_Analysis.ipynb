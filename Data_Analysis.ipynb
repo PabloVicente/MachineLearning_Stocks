{
 "cells": [
  {
   "cell_type": "code",
   "execution_count": 1,
   "metadata": {
    "collapsed": false
   },
   "outputs": [],
   "source": [
    "%matplotlib inline \n",
    "\n",
    "import six\n",
    "import Quandl\n",
    "import calendar\n",
    "import numpy as np\n",
    "import pandas as pd\n",
    "import seaborn as sb  \n",
    "import pylab as pylab\n",
    "from datetime import datetime\n",
    "from matplotlib import colors\n",
    "import matplotlib.pyplot as plt\n",
    "import matplotlib.dates as mdates\n",
    "from scipy.interpolate import interp1d\n",
    "import statsmodels.stats.stattools as stats_stattools\n",
    "import statsmodels.tsa.stattools as tsa_stattools\n",
    "import statsmodels.tsa.seasonal as tsa_seasonal\n",
    "\n",
    "import xgboost as xgb\n",
    "from unbalanced_dataset import SMOTE\n",
    "\n",
    "from sklearn import svm\n",
    "from sklearn.ensemble import RandomForestClassifier\n",
    "from sklearn.ensemble import ExtraTreesClassifier\n",
    "from sklearn.metrics import roc_auc_score, classification_report\n",
    "from sklearn.feature_selection import SelectFromModel\n",
    "\n",
    "import sys\n",
    "from os import listdir\n",
    "from os.path import isfile, join\n",
    "from helpers import correlation, procces_stocks, data_manipulation, download_quandl_data, ml_dataset\n",
    "from classes import Iteration\n",
    "\n",
    "fig_size = [10, 6]\n",
    "plt.rcParams[\"figure.figsize\"] = fig_size\n",
    "sb.set_style('darkgrid')\n",
    "\n",
    "\n",
    "## # Feature selection\n",
    "#clf = ExtraTreesClassifier(random_state=1729, n_jobs=-1)\n",
    "#selector = clf.fit(trainX, trainY)\n",
    "#fs = SelectFromModel(selector, prefit=True)\n",
    "## clf.feature_importances_ \n",
    "#\n",
    "#trainX = fs.transform(trainX)\n",
    "#test = fs.transform(test)"
   ]
  },
  {
   "cell_type": "code",
   "execution_count": 11,
   "metadata": {
    "collapsed": false
   },
   "outputs": [],
   "source": [
    "GOLD = data_manipulation.read_csv_data('/Users/Pablo/Desktop/TFM/Data/GOLD.csv')\n",
    "SILVER = data_manipulation.read_csv_data('/Users/Pablo/Desktop/TFM/Data/SILVER.csv')\n",
    "PLAT = data_manipulation.read_csv_data('/Users/Pablo/Desktop/TFM/Data/PLAT.csv')\n",
    "INDEX_DJIA = data_manipulation.read_csv_data('/Users/Pablo/Desktop/TFM/Data/INDEX_DJIA.csv')\n",
    "INDEX_HSI = data_manipulation.read_csv_data('/Users/Pablo/Desktop/TFM/Data/INDEX_HSI.csv')\n",
    "INDEX_IBEX = data_manipulation.read_csv_data('/Users/Pablo/Desktop/TFM/Data/INDEX_IBEX.csv')\n",
    "INDEX_N225 = data_manipulation.read_csv_data('/Users/Pablo/Desktop/TFM/Data/INDEX_N225.csv')\n",
    "INDEX_SP500 = data_manipulation.read_csv_data('/Users/Pablo/Desktop/TFM/Data/INDEX_SP500.csv')\n",
    "values_names = ['GOLD', 'SILVER', 'PLAT', 'INDEX_DJIA', 'INDEX_HSI', 'INDEX_IBEX', 'INDEX_N225', 'INDEX_SP500']\n",
    "values_dfs = [GOLD, SILVER, PLAT, INDEX_DJIA, INDEX_HSI, INDEX_IBEX, INDEX_N225, INDEX_SP500]\n",
    "values_cols = ['USD (AM)', 'USD', 'USD AM', 'Close', 'Close', 'Close', 'Close', 'Close']\n",
    "values = [GOLD['USD (AM)'], SILVER['USD'], PLAT['USD AM'], INDEX_DJIA['Close'], INDEX_HSI['Close'], INDEX_IBEX['Close'], INDEX_N225['Close'], INDEX_SP500['Close']]\n",
    "\n",
    "values_cols_b = ['DIFF_B', 'DIFF_B', 'DIFF_B', 'DIFF_B', 'DIFF_B', 'DIFF_B', 'DIFF_B', 'DIFF_B']\n",
    "#values_cols = ['DIFF', 'DIFF', 'DIFF', 'DIFF', 'DIFF', 'DIFF', 'DIFF', 'DIFF']\n",
    "\n",
    "dataset = ml_dataset.generate_df_dataset(values_names, values_dfs, values_cols)\n",
    "dataset_b = ml_dataset.generate_df_dataset(values_names, values_dfs, values_cols_b)"
   ]
  },
  {
   "cell_type": "code",
   "execution_count": 18,
   "metadata": {
    "collapsed": false
   },
   "outputs": [],
   "source": [
    "train_index = []\n",
    "test_index = []\n",
    "for i in range(dataset.shape[0]):\n",
    "    if i % 30 == 0 and i > 0:\n",
    "        test_index.append(i)\n",
    "    else:\n",
    "        train_index.append(i)\n",
    "\n",
    "train_df = dataset.ix[train_index]        \n",
    "test_df = dataset.ix[test_index]        \n",
    "train_df_b = dataset_b.ix[train_index]        \n",
    "test_df_b = dataset_b.ix[test_index]        "
   ]
  },
  {
   "cell_type": "code",
   "execution_count": 8,
   "metadata": {
    "collapsed": false,
    "scrolled": false
   },
   "outputs": [],
   "source": [
    "iterations = []\n",
    "\n",
    "iteration_train_dates1 = Iteration.Iteration('1993-07-07', '1997-07-07')\n",
    "iterations.append(iteration_train_dates1)\n",
    "iteration_test_dates1  = Iteration.Iteration('1997-07-08', '1998-07-07')\n",
    "iterations.append(iteration_test_dates1)\n",
    "iteration_train_dates2 = Iteration.Iteration('1998-07-08', '2002-07-08')\n",
    "iterations.append(iteration_train_dates2)\n",
    "iteration_test_dates2  = Iteration.Iteration('2002-07-05', '2003-07-07')\n",
    "iterations.append(iteration_test_dates2)\n",
    "iteration_train_dates3 = Iteration.Iteration('2003-07-08', '2007-07-06')\n",
    "iterations.append(iteration_train_dates3)\n",
    "iteration_test_dates3  = Iteration.Iteration('2007-07-09', '2008-07-07')\n",
    "iterations.append(iteration_test_dates3)\n",
    "iteration_train_dates4 = Iteration.Iteration('2008-07-08', '2012-07-09')\n",
    "iterations.append(iteration_train_dates4)\n",
    "iteration_test_dates4  = Iteration.Iteration('2012-07-06', '2013-07-05')\n",
    "iterations.append(iteration_test_dates4)\n",
    "iteration_train_dates5 = Iteration.Iteration('2013-07-05', '2015-07-08')\n",
    "iterations.append(iteration_train_dates5)\n",
    "iteration_test_dates5  = Iteration.Iteration('2015-07-08', '2016-04-20')\n",
    "iterations.append(iteration_test_dates5)\n",
    "\n",
    "iteration_train_dates1.calculate_indices(dataset)\n",
    "iteration_test_dates1.calculate_indices(dataset)\n",
    "iteration_train_dates2.calculate_indices(dataset)\n",
    "iteration_test_dates2.calculate_indices(dataset)\n",
    "iteration_train_dates3.calculate_indices(dataset)\n",
    "iteration_test_dates3.calculate_indices(dataset)\n",
    "iteration_train_dates4.calculate_indices(dataset)\n",
    "iteration_test_dates4.calculate_indices(dataset)\n",
    "iteration_train_dates5.calculate_indices(dataset)\n",
    "iteration_test_dates5.calculate_indices(dataset)"
   ]
  },
  {
   "cell_type": "code",
   "execution_count": null,
   "metadata": {
    "collapsed": true
   },
   "outputs": [],
   "source": []
  },
  {
   "cell_type": "code",
   "execution_count": 12,
   "metadata": {
    "collapsed": false
   },
   "outputs": [
    {
     "name": "stdout",
     "output_type": "stream",
     "text": [
      "===========================\n",
      "Iteration 0\n",
      "Training: from 1993-07-07 to 1997-07-07\n",
      "Testing: from 1997-07-08 to 1998-07-07\n",
      "0.665338645418\n",
      "             precision    recall  f1-score   support\n",
      "\n",
      "         -1       0.63      0.59      0.61       111\n",
      "          1       0.69      0.73      0.71       140\n",
      "\n",
      "avg / total       0.66      0.67      0.66       251\n",
      "\n",
      "0.657078507079\n",
      "===========================\n",
      "Iteration 2\n",
      "Training: from 1998-07-08 to 2002-07-08\n",
      "Testing: from 2002-07-05 to 2003-07-07\n",
      "0.611111111111\n",
      "             precision    recall  f1-score   support\n",
      "\n",
      "         -1       0.61      0.59      0.60       124\n",
      "          1       0.61      0.63      0.62       128\n",
      "\n",
      "avg / total       0.61      0.61      0.61       252\n",
      "\n",
      "0.61076108871\n",
      "===========================\n",
      "Iteration 4\n",
      "Training: from 2003-07-08 to 2007-07-06\n",
      "Testing: from 2007-07-09 to 2008-07-07\n",
      "0.613545816733\n",
      "             precision    recall  f1-score   support\n",
      "\n",
      "         -1       0.67      0.50      0.57       130\n",
      "          1       0.58      0.74      0.65       121\n",
      "\n",
      "avg / total       0.63      0.61      0.61       251\n",
      "\n",
      "0.617768595041\n",
      "===========================\n",
      "Iteration 6\n",
      "Training: from 2008-07-08 to 2012-07-09\n",
      "Testing: from 2012-07-06 to 2013-07-05\n",
      "0.66265060241\n",
      "             precision    recall  f1-score   support\n",
      "\n",
      "         -1       0.71      0.62      0.66       132\n",
      "          1       0.62      0.71      0.66       117\n",
      "\n",
      "avg / total       0.67      0.66      0.66       249\n",
      "\n",
      "0.665306915307\n",
      "===========================\n",
      "Iteration 8\n",
      "Training: from 2013-07-05 to 2015-07-08\n",
      "Testing: from 2015-07-08 to 2016-04-20\n",
      "0.737373737374\n",
      "             precision    recall  f1-score   support\n",
      "\n",
      "         -1       0.77      0.66      0.71        97\n",
      "          1       0.71      0.81      0.76       101\n",
      "\n",
      "avg / total       0.74      0.74      0.74       198\n",
      "\n",
      "0.735837501276\n"
     ]
    }
   ],
   "source": [
    "colsToRemove = ['Date', 'INDEX_IBEX']\n",
    "colY = 'INDEX_IBEX'\n",
    "\n",
    "for i in range(0, len(iterations), 2):\n",
    "    print(\"===========================\")    \n",
    "    print(\"Iteration %s\" % (i))\n",
    "    print(\"Training: from %s to %s\" % (iterations[i].startDate, iterations[i].endDate))\n",
    "    print(\"Testing: from %s to %s\" % (iterations[i+1].startDate, iterations[i+1].endDate))    \n",
    "    trainDates = []\n",
    "    testDates = []\n",
    "    trainDates.append(iterations[i].lowerIndex)\n",
    "    trainDates.append(iterations[i].upperIndex)\n",
    "    testDates.append(iterations[i+1].lowerIndex)\n",
    "    testDates.append(iterations[i+1].upperIndex)\n",
    "    \n",
    "    trainX, trainY, testX, testY = ml_dataset.dataset_to_train(dataset, dataset_b, trainDates, testDates, colsToRemove, colY, )\n",
    "    \n",
    "    ## SVM\n",
    "    scv = svm.SVC(kernel='rbf')\n",
    "    scv.fit(trainX, trainY)\n",
    "    \n",
    "    print scv.score(testX, testY)\n",
    "    print classification_report(testY, scv.predict(testX))\n",
    "    print roc_auc_score(testY, scv.predict(testX))\n"
   ]
  },
  {
   "cell_type": "code",
   "execution_count": null,
   "metadata": {
    "collapsed": true
   },
   "outputs": [],
   "source": [
    "colsX = ['Date', 'GOLD', 'SILVER', 'PLAT', 'INDEX_DJIA', 'INDEX_HSI', 'INDEX_N225', 'INDEX_SP500', 'INDEX_IBEX']\n",
    "colsY = ['Date', 'INDEX_IBEX']\n",
    "colsToRemove = ['Date', 'INDEX_IBEX']\n",
    "trainX = np.nan_to_num(np.asarray(train_df.drop(colsToRemove, axis = 1)))\n",
    "trainY = np.nan_to_num(np.asarray(train_df_b['INDEX_IBEX']))#, dtype=\"|S6\"))\n",
    "testX = np.nan_to_num(np.asarray(test_df.drop(colsToRemove, axis = 1)))\n",
    "testY = np.nan_to_num(np.asarray(test_df_b['INDEX_IBEX']))#, dtype=\"|S6\"))"
   ]
  },
  {
   "cell_type": "code",
   "execution_count": 40,
   "metadata": {
    "collapsed": false
   },
   "outputs": [
    {
     "data": {
      "text/plain": [
       "SVC(C=1.0, cache_size=200, class_weight=None, coef0=0.0,\n",
       "  decision_function_shape=None, degree=3, gamma='auto', kernel='rbf',\n",
       "  max_iter=-1, probability=False, random_state=None, shrinking=True,\n",
       "  tol=0.001, verbose=False)"
      ]
     },
     "execution_count": 40,
     "metadata": {},
     "output_type": "execute_result"
    }
   ],
   "source": [
    "## RBF\n",
    "rbf = RandomForestClassifier(100)\n",
    "rbf.fit(trainX, trainY)\n",
    "## SVM\n",
    "scv = svm.SVC(kernel='rbf')\n",
    "scv.fit(trainX, trainY)"
   ]
  },
  {
   "cell_type": "code",
   "execution_count": 41,
   "metadata": {
    "collapsed": false
   },
   "outputs": [
    {
     "name": "stdout",
     "output_type": "stream",
     "text": [
      "0.552702702703\n",
      "             precision    recall  f1-score   support\n",
      "\n",
      "          0       0.00      0.00      0.00       331\n",
      "          1       0.55      1.00      0.71       409\n",
      "\n",
      "avg / total       0.31      0.55      0.39       740\n",
      "\n",
      "0.5\n",
      "0.535135135135\n",
      "             precision    recall  f1-score   support\n",
      "\n",
      "          0       0.47      0.28      0.35       331\n",
      "          1       0.56      0.74      0.64       409\n",
      "\n",
      "avg / total       0.52      0.54      0.51       740\n",
      "\n",
      "0.510610951477\n"
     ]
    }
   ],
   "source": [
    "print scv.score(testX, testY)\n",
    "print classification_report(testY, scv.predict(testX))\n",
    "print roc_auc_score(testY, scv.predict(testX))\n",
    "\n",
    "print rbf.score(testX, testY)\n",
    "print classification_report(testY, rbf.predict(testX))\n",
    "print roc_auc_score(testY, rbf.predict(testX))"
   ]
  },
  {
   "cell_type": "code",
   "execution_count": 42,
   "metadata": {
    "collapsed": false
   },
   "outputs": [],
   "source": [
    "preds = scv.predict(testX)\n",
    "good = []\n",
    "bad = []\n",
    "for sample in range(testY.shape[0]):\n",
    "    #print(\"X %s - Y %s\" % (testY[sample], preds[sample]))\n",
    "    if testY[sample] == preds[sample]:\n",
    "        good.append(10)\n",
    "        bad.append(0)        \n",
    "    else:\n",
    "        bad.append(-10)\n",
    "        good.append(0)"
   ]
  },
  {
   "cell_type": "code",
   "execution_count": null,
   "metadata": {
    "collapsed": false
   },
   "outputs": [],
   "source": []
  },
  {
   "cell_type": "code",
   "execution_count": 24,
   "metadata": {
    "collapsed": false,
    "scrolled": false
   },
   "outputs": [
    {
     "data": {
      "image/png": "[encoded data removed]",
      "text/plain": [
       "<matplotlib.figure.Figure at 0x116e31e10>"
      ]
     },
     "metadata": {},
     "output_type": "display_data"
    }
   ],
   "source": [
    "## PRICE FLOW BETWEEN TWO CONSECUTIVES DAYS ##\n",
    "slice = 30\n",
    "pylab.figure(1)\n",
    "\n",
    "ax = plt.subplot(111)\n",
    "\n",
    "ax.plot(good[:slice], 'g', label='GOOD')\n",
    "ax.plot(bad[:slice], 'r', label='BAD')\n",
    "box = ax.get_position()\n",
    "ax.set_position([box.x0, box.y0, box.width * 0.8, box.height])\n",
    "ax.legend(loc='center left', bbox_to_anchor=(1, 0.5))\n",
    "plt.show()\n"
   ]
  },
  {
   "cell_type": "code",
   "execution_count": 13,
   "metadata": {
    "collapsed": false
   },
   "outputs": [
    {
     "name": "stdout",
     "output_type": "stream",
     "text": [
      "('Roc AUC: ', 0.49467051758396796)\n"
     ]
    }
   ],
   "source": [
    "m2_xgb = xgb.XGBClassifier(n_estimators=110, nthread=-1, seed=1729)\n",
    "m2_xgb.fit(trainX, trainY, eval_metric=\"auc\", verbose = False, eval_set=[(testX, testY)])\n",
    "\n",
    "# calculate the auc score\n",
    "print(\"Roc AUC: \", roc_auc_score(testY, m2_xgb.predict_proba(testX)[:,1], average='macro'))"
   ]
  },
  {
   "cell_type": "code",
   "execution_count": null,
   "metadata": {
    "collapsed": false
   },
   "outputs": [],
   "source": []
  },
  {
   "cell_type": "code",
   "execution_count": 84,
   "metadata": {
    "collapsed": false
   },
   "outputs": [
    {
     "data": {
      "image/png": "[encoded data removed]",
      "text/plain": [
       "<matplotlib.figure.Figure at 0x11480b110>"
      ]
     },
     "metadata": {},
     "output_type": "display_data"
    }
   ],
   "source": [
    "pylab.figure(1)\n",
    "\n",
    "ax = plt.subplot(111)\n",
    "x = [datetime.strptime(d,'%Y-%m-%d').date() for d in dataset['Date'].tolist()]\n",
    "ax.plot(x, dataset['INDEX_IBEX'], 'g', label='IBEX')\n",
    "box = ax.get_position()\n",
    "ax.set_position([box.x0, box.y0, box.width * 0.8, box.height])\n",
    "ax.legend(loc='center left', bbox_to_anchor=(1, 0.5))\n",
    "plt.show()\n"
   ]
  },
  {
   "cell_type": "code",
   "execution_count": 12,
   "metadata": {
    "collapsed": false
   },
   "outputs": [],
   "source": [
    "#data_manipulation.write_csv_data(GOLD_new, '/Users/Pablo/Desktop/TFM/Data/GOLD.csv')\n",
    "#data_manipulation.write_csv_data(SILVER_new, '/Users/Pablo/Desktop/TFM/Data/SILVER.csv')\n",
    "#data_manipulation.write_csv_data(PLAT_new, '/Users/Pablo/Desktop/TFM/Data/PLAT.csv')\n",
    "#data_manipulation.write_csv_data(INDEX_DJIA_new, '/Users/Pablo/Desktop/TFM/Data/INDEX_DJIA.csv')\n",
    "#data_manipulation.write_csv_data(INDEX_HSI_new, '/Users/Pablo/Desktop/TFM/Data/INDEX_HSI.csv')\n",
    "#data_manipulation.write_csv_data(INDEX_IBEX_new, '/Users/Pablo/Desktop/TFM/Data/INDEX_IBEX.csv')\n",
    "#data_manipulation.write_csv_data(INDEX_N225_new, '/Users/Pablo/Desktop/TFM/Data/INDEX_N225.csv')\n",
    "#data_manipulation.write_csv_data(INDEX_SP500_new, '/Users/Pablo/Desktop/TFM/Data/INDEX_SP500.csv')"
   ]
  }
 ],
 "metadata": {
  "kernelspec": {
   "display_name": "Python 2",
   "language": "python",
   "name": "python2"
  },
  "language_info": {
   "codemirror_mode": {
    "name": "ipython",
    "version": 2
   },
   "file_extension": ".py",
   "mimetype": "text/x-python",
   "name": "python",
   "nbconvert_exporter": "python",
   "pygments_lexer": "ipython2",
   "version": "2.7.9"
  }
 },
 "nbformat": 4,
 "nbformat_minor": 0
}
